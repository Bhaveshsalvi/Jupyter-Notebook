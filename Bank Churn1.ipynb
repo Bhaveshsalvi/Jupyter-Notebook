{
 "cells": [
  {
   "cell_type": "code",
   "execution_count": 2,
   "metadata": {},
   "outputs": [
    {
     "name": "stderr",
     "output_type": "stream",
     "text": [
      "Using Theano backend.\n",
      "WARNING (theano.configdefaults): g++ not available, if using conda: `conda install m2w64-toolchain`\n",
      "C:\\Users\\Bhavesh\\Miniconda3\\lib\\site-packages\\theano\\configdefaults.py:560: UserWarning: DeprecationWarning: there is no c++ compiler.This is deprecated and with Theano 0.11 a c++ compiler will be mandatory\n",
      "  warnings.warn(\"DeprecationWarning: there is no c++ compiler.\"\n",
      "WARNING (theano.configdefaults): g++ not detected ! Theano will be unable to execute optimized C-implementations (for both CPU and GPU) and will default to Python implementations. Performance will be severely degraded. To remove this warning, set Theano flags cxx to an empty string.\n",
      "WARNING (theano.tensor.blas): Using NumPy C-API based implementation for BLAS functions.\n"
     ]
    }
   ],
   "source": [
    "import keras\n",
    "from keras.models import Sequential\n",
    "from keras.layers import Dense,Activation,BatchNormalization\n",
    "from keras.layers import LeakyReLU,PReLU,ELU\n",
    "from keras.layers import Dropout\n",
    "from keras.wrappers.scikit_learn import KerasClassifier\n",
    "from keras.activations import relu, sigmoid\n",
    "from sklearn.model_selection import GridSearchCV\n",
    "\n"
   ]
  },
  {
   "cell_type": "code",
   "execution_count": 3,
   "metadata": {},
   "outputs": [],
   "source": [
    "import numpy as np\n",
    "import matplotlib.pyplot as plt\n",
    "import pandas as pd\n",
    "from sklearn.model_selection import train_test_split\n",
    "from sklearn.preprocessing import StandardScaler\n",
    "from sklearn.metrics import confusion_matrix\n",
    "from sklearn.metrics import accuracy_score\n",
    "from sklearn.model_selection import GridSearchCV\n"
   ]
  },
  {
   "cell_type": "code",
   "execution_count": 4,
   "metadata": {},
   "outputs": [],
   "source": [
    "dataset = pd.read_csv(\"D:\\Data scientist\\Dataset\\Churn_Modelling.csv\")"
   ]
  },
  {
   "cell_type": "code",
   "execution_count": 5,
   "metadata": {},
   "outputs": [
    {
     "data": {
      "text/html": [
       "<div>\n",
       "<style scoped>\n",
       "    .dataframe tbody tr th:only-of-type {\n",
       "        vertical-align: middle;\n",
       "    }\n",
       "\n",
       "    .dataframe tbody tr th {\n",
       "        vertical-align: top;\n",
       "    }\n",
       "\n",
       "    .dataframe thead th {\n",
       "        text-align: right;\n",
       "    }\n",
       "</style>\n",
       "<table border=\"1\" class=\"dataframe\">\n",
       "  <thead>\n",
       "    <tr style=\"text-align: right;\">\n",
       "      <th></th>\n",
       "      <th>RowNumber</th>\n",
       "      <th>CustomerId</th>\n",
       "      <th>Surname</th>\n",
       "      <th>CreditScore</th>\n",
       "      <th>Geography</th>\n",
       "      <th>Gender</th>\n",
       "      <th>Age</th>\n",
       "      <th>Tenure</th>\n",
       "      <th>Balance</th>\n",
       "      <th>NumOfProducts</th>\n",
       "      <th>HasCrCard</th>\n",
       "      <th>IsActiveMember</th>\n",
       "      <th>EstimatedSalary</th>\n",
       "      <th>Exited</th>\n",
       "    </tr>\n",
       "  </thead>\n",
       "  <tbody>\n",
       "    <tr>\n",
       "      <th>0</th>\n",
       "      <td>1</td>\n",
       "      <td>15634602</td>\n",
       "      <td>Hargrave</td>\n",
       "      <td>619</td>\n",
       "      <td>France</td>\n",
       "      <td>Female</td>\n",
       "      <td>42</td>\n",
       "      <td>2</td>\n",
       "      <td>0.00</td>\n",
       "      <td>1</td>\n",
       "      <td>1</td>\n",
       "      <td>1</td>\n",
       "      <td>101348.88</td>\n",
       "      <td>1</td>\n",
       "    </tr>\n",
       "    <tr>\n",
       "      <th>1</th>\n",
       "      <td>2</td>\n",
       "      <td>15647311</td>\n",
       "      <td>Hill</td>\n",
       "      <td>608</td>\n",
       "      <td>Spain</td>\n",
       "      <td>Female</td>\n",
       "      <td>41</td>\n",
       "      <td>1</td>\n",
       "      <td>83807.86</td>\n",
       "      <td>1</td>\n",
       "      <td>0</td>\n",
       "      <td>1</td>\n",
       "      <td>112542.58</td>\n",
       "      <td>0</td>\n",
       "    </tr>\n",
       "    <tr>\n",
       "      <th>2</th>\n",
       "      <td>3</td>\n",
       "      <td>15619304</td>\n",
       "      <td>Onio</td>\n",
       "      <td>502</td>\n",
       "      <td>France</td>\n",
       "      <td>Female</td>\n",
       "      <td>42</td>\n",
       "      <td>8</td>\n",
       "      <td>159660.80</td>\n",
       "      <td>3</td>\n",
       "      <td>1</td>\n",
       "      <td>0</td>\n",
       "      <td>113931.57</td>\n",
       "      <td>1</td>\n",
       "    </tr>\n",
       "    <tr>\n",
       "      <th>3</th>\n",
       "      <td>4</td>\n",
       "      <td>15701354</td>\n",
       "      <td>Boni</td>\n",
       "      <td>699</td>\n",
       "      <td>France</td>\n",
       "      <td>Female</td>\n",
       "      <td>39</td>\n",
       "      <td>1</td>\n",
       "      <td>0.00</td>\n",
       "      <td>2</td>\n",
       "      <td>0</td>\n",
       "      <td>0</td>\n",
       "      <td>93826.63</td>\n",
       "      <td>0</td>\n",
       "    </tr>\n",
       "    <tr>\n",
       "      <th>4</th>\n",
       "      <td>5</td>\n",
       "      <td>15737888</td>\n",
       "      <td>Mitchell</td>\n",
       "      <td>850</td>\n",
       "      <td>Spain</td>\n",
       "      <td>Female</td>\n",
       "      <td>43</td>\n",
       "      <td>2</td>\n",
       "      <td>125510.82</td>\n",
       "      <td>1</td>\n",
       "      <td>1</td>\n",
       "      <td>1</td>\n",
       "      <td>79084.10</td>\n",
       "      <td>0</td>\n",
       "    </tr>\n",
       "  </tbody>\n",
       "</table>\n",
       "</div>"
      ],
      "text/plain": [
       "   RowNumber  CustomerId   Surname  CreditScore Geography  Gender  Age  \\\n",
       "0          1    15634602  Hargrave          619    France  Female   42   \n",
       "1          2    15647311      Hill          608     Spain  Female   41   \n",
       "2          3    15619304      Onio          502    France  Female   42   \n",
       "3          4    15701354      Boni          699    France  Female   39   \n",
       "4          5    15737888  Mitchell          850     Spain  Female   43   \n",
       "\n",
       "   Tenure    Balance  NumOfProducts  HasCrCard  IsActiveMember  \\\n",
       "0       2       0.00              1          1               1   \n",
       "1       1   83807.86              1          0               1   \n",
       "2       8  159660.80              3          1               0   \n",
       "3       1       0.00              2          0               0   \n",
       "4       2  125510.82              1          1               1   \n",
       "\n",
       "   EstimatedSalary  Exited  \n",
       "0        101348.88       1  \n",
       "1        112542.58       0  \n",
       "2        113931.57       1  \n",
       "3         93826.63       0  \n",
       "4         79084.10       0  "
      ]
     },
     "execution_count": 5,
     "metadata": {},
     "output_type": "execute_result"
    }
   ],
   "source": [
    "dataset.head(5)"
   ]
  },
  {
   "cell_type": "code",
   "execution_count": 6,
   "metadata": {},
   "outputs": [
    {
     "data": {
      "text/plain": [
       "(10000, 14)"
      ]
     },
     "execution_count": 6,
     "metadata": {},
     "output_type": "execute_result"
    }
   ],
   "source": [
    "dataset.shape"
   ]
  },
  {
   "cell_type": "code",
   "execution_count": 7,
   "metadata": {},
   "outputs": [],
   "source": [
    "X = dataset.iloc[:,3:13]\n",
    "Y = dataset.iloc[:, 13]\n"
   ]
  },
  {
   "cell_type": "code",
   "execution_count": 8,
   "metadata": {},
   "outputs": [],
   "source": [
    "geography = pd.get_dummies(X[\"Geography\"],drop_first=True)\n",
    "gender = pd.get_dummies(X[\"Gender\"],drop_first=True)"
   ]
  },
  {
   "cell_type": "code",
   "execution_count": 9,
   "metadata": {},
   "outputs": [],
   "source": [
    "X = pd.concat([X,geography,gender],axis=1)"
   ]
  },
  {
   "cell_type": "code",
   "execution_count": 10,
   "metadata": {},
   "outputs": [],
   "source": [
    "X = X.drop(['Geography','Gender'],axis=1)"
   ]
  },
  {
   "cell_type": "code",
   "execution_count": 11,
   "metadata": {},
   "outputs": [],
   "source": [
    "X_train , X_test , Y_train, Y_test = train_test_split(X, Y, random_state = 0 , test_size = 0.2)"
   ]
  },
  {
   "cell_type": "code",
   "execution_count": 12,
   "metadata": {},
   "outputs": [],
   "source": [
    "sc  = StandardScaler()\n",
    "X_train = sc.fit_transform(X_train)\n",
    "X_test = sc.transform(X_test)"
   ]
  },
  {
   "cell_type": "code",
   "execution_count": 13,
   "metadata": {},
   "outputs": [
    {
     "name": "stderr",
     "output_type": "stream",
     "text": [
      "C:\\Users\\Bhavesh\\Miniconda3\\lib\\site-packages\\ipykernel_launcher.py:12: UserWarning: The `nb_epoch` argument in `fit` has been renamed `epochs`.\n",
      "  if sys.path[0] == '':\n"
     ]
    },
    {
     "name": "stdout",
     "output_type": "stream",
     "text": [
      "Train on 5359 samples, validate on 2641 samples\n",
      "Epoch 1/100\n",
      "5359/5359 [==============================] - 56s 10ms/step - loss: 0.4986 - accuracy: 0.7826 - val_loss: 0.4599 - val_accuracy: 0.8054\n",
      "Epoch 2/100\n",
      "5359/5359 [==============================] - 52s 10ms/step - loss: 0.4416 - accuracy: 0.8037 - val_loss: 0.4532 - val_accuracy: 0.8111\n",
      "Epoch 3/100\n",
      "5359/5359 [==============================] - 54s 10ms/step - loss: 0.4273 - accuracy: 0.8140 - val_loss: 0.4342 - val_accuracy: 0.8092\n",
      "Epoch 4/100\n",
      "5359/5359 [==============================] - 51s 9ms/step - loss: 0.4169 - accuracy: 0.8184 - val_loss: 0.4277 - val_accuracy: 0.8152\n",
      "Epoch 5/100\n",
      "5359/5359 [==============================] - 49s 9ms/step - loss: 0.4100 - accuracy: 0.8253 - val_loss: 0.4214 - val_accuracy: 0.8171\n",
      "Epoch 6/100\n",
      "5359/5359 [==============================] - 49s 9ms/step - loss: 0.4028 - accuracy: 0.8296 - val_loss: 0.4141 - val_accuracy: 0.8228\n",
      "Epoch 7/100\n",
      "5359/5359 [==============================] - 48s 9ms/step - loss: 0.3951 - accuracy: 0.8354 - val_loss: 0.4176 - val_accuracy: 0.8167\n",
      "Epoch 8/100\n",
      "5359/5359 [==============================] - 47s 9ms/step - loss: 0.3889 - accuracy: 0.8388 - val_loss: 0.4003 - val_accuracy: 0.8285\n",
      "Epoch 9/100\n",
      "5359/5359 [==============================] - 50s 9ms/step - loss: 0.3794 - accuracy: 0.8434 - val_loss: 0.3931 - val_accuracy: 0.8376\n",
      "Epoch 10/100\n",
      "5359/5359 [==============================] - 56s 10ms/step - loss: 0.3671 - accuracy: 0.8498 - val_loss: 0.3860 - val_accuracy: 0.8410\n",
      "Epoch 11/100\n",
      "5359/5359 [==============================] - 63s 12ms/step - loss: 0.3553 - accuracy: 0.8533 - val_loss: 0.3740 - val_accuracy: 0.8466\n",
      "Epoch 12/100\n",
      "5359/5359 [==============================] - 61s 11ms/step - loss: 0.3465 - accuracy: 0.8612 - val_loss: 0.3685 - val_accuracy: 0.8485\n",
      "Epoch 13/100\n",
      "5359/5359 [==============================] - 56s 10ms/step - loss: 0.3399 - accuracy: 0.8623 - val_loss: 0.3664 - val_accuracy: 0.8482\n",
      "Epoch 14/100\n",
      "5359/5359 [==============================] - 52s 10ms/step - loss: 0.3360 - accuracy: 0.8617 - val_loss: 0.3620 - val_accuracy: 0.8523\n",
      "Epoch 15/100\n",
      "5359/5359 [==============================] - 53s 10ms/step - loss: 0.3316 - accuracy: 0.8619 - val_loss: 0.3637 - val_accuracy: 0.8501\n",
      "Epoch 16/100\n",
      "5359/5359 [==============================] - 53s 10ms/step - loss: 0.3292 - accuracy: 0.8643 - val_loss: 0.3666 - val_accuracy: 0.8497\n",
      "Epoch 17/100\n",
      "5359/5359 [==============================] - 55s 10ms/step - loss: 0.3269 - accuracy: 0.8636 - val_loss: 0.3660 - val_accuracy: 0.8527\n",
      "Epoch 18/100\n",
      "5359/5359 [==============================] - 53s 10ms/step - loss: 0.3264 - accuracy: 0.8634 - val_loss: 0.3659 - val_accuracy: 0.8474\n",
      "Epoch 19/100\n",
      "5359/5359 [==============================] - 50s 9ms/step - loss: 0.3246 - accuracy: 0.8636 - val_loss: 0.3683 - val_accuracy: 0.8535\n",
      "Epoch 20/100\n",
      "5359/5359 [==============================] - 50s 9ms/step - loss: 0.3230 - accuracy: 0.8640 - val_loss: 0.3659 - val_accuracy: 0.8523\n",
      "Epoch 21/100\n",
      "5359/5359 [==============================] - 51s 10ms/step - loss: 0.3236 - accuracy: 0.8636 - val_loss: 0.3654 - val_accuracy: 0.8504\n",
      "Epoch 22/100\n",
      "5359/5359 [==============================] - 53s 10ms/step - loss: 0.3226 - accuracy: 0.8642 - val_loss: 0.3643 - val_accuracy: 0.8550\n",
      "Epoch 23/100\n",
      "5359/5359 [==============================] - 49s 9ms/step - loss: 0.3209 - accuracy: 0.8632 - val_loss: 0.3671 - val_accuracy: 0.8470\n",
      "Epoch 24/100\n",
      "5359/5359 [==============================] - 49s 9ms/step - loss: 0.3214 - accuracy: 0.8668 - val_loss: 0.3660 - val_accuracy: 0.8527\n",
      "Epoch 25/100\n",
      "5359/5359 [==============================] - 51s 9ms/step - loss: 0.3203 - accuracy: 0.8623 - val_loss: 0.3686 - val_accuracy: 0.8538\n",
      "Epoch 26/100\n",
      "5359/5359 [==============================] - 55s 10ms/step - loss: 0.3194 - accuracy: 0.8642 - val_loss: 0.3661 - val_accuracy: 0.8527\n",
      "Epoch 27/100\n",
      "5359/5359 [==============================] - 50s 9ms/step - loss: 0.3186 - accuracy: 0.8662 - val_loss: 0.3717 - val_accuracy: 0.8512\n",
      "Epoch 28/100\n",
      "5359/5359 [==============================] - 49s 9ms/step - loss: 0.3196 - accuracy: 0.8645 - val_loss: 0.3646 - val_accuracy: 0.8561\n",
      "Epoch 29/100\n",
      "5359/5359 [==============================] - 48s 9ms/step - loss: 0.3180 - accuracy: 0.8656 - val_loss: 0.3709 - val_accuracy: 0.8527\n",
      "Epoch 30/100\n",
      "5359/5359 [==============================] - 48s 9ms/step - loss: 0.3169 - accuracy: 0.8656 - val_loss: 0.3737 - val_accuracy: 0.8508\n",
      "Epoch 31/100\n",
      "5359/5359 [==============================] - 49s 9ms/step - loss: 0.3176 - accuracy: 0.8658 - val_loss: 0.3704 - val_accuracy: 0.8478\n",
      "Epoch 32/100\n",
      "5359/5359 [==============================] - 49s 9ms/step - loss: 0.3174 - accuracy: 0.8675 - val_loss: 0.3717 - val_accuracy: 0.8508\n",
      "Epoch 33/100\n",
      "5359/5359 [==============================] - 49s 9ms/step - loss: 0.3170 - accuracy: 0.8634 - val_loss: 0.3702 - val_accuracy: 0.8531\n",
      "Epoch 34/100\n",
      "5359/5359 [==============================] - 52s 10ms/step - loss: 0.3162 - accuracy: 0.8655 - val_loss: 0.3707 - val_accuracy: 0.8527\n",
      "Epoch 35/100\n",
      "5359/5359 [==============================] - 57s 11ms/step - loss: 0.3151 - accuracy: 0.8660 - val_loss: 0.3704 - val_accuracy: 0.8501\n",
      "Epoch 36/100\n",
      "5359/5359 [==============================] - 54s 10ms/step - loss: 0.3137 - accuracy: 0.8677 - val_loss: 0.3769 - val_accuracy: 0.8501\n",
      "Epoch 37/100\n",
      "5359/5359 [==============================] - 55s 10ms/step - loss: 0.3147 - accuracy: 0.8681 - val_loss: 0.3731 - val_accuracy: 0.8535\n",
      "Epoch 38/100\n",
      "5359/5359 [==============================] - 55s 10ms/step - loss: 0.3134 - accuracy: 0.8677 - val_loss: 0.3749 - val_accuracy: 0.8519\n",
      "Epoch 39/100\n",
      "5359/5359 [==============================] - 52s 10ms/step - loss: 0.3135 - accuracy: 0.8645 - val_loss: 0.3714 - val_accuracy: 0.8531\n",
      "Epoch 40/100\n",
      "5359/5359 [==============================] - 49s 9ms/step - loss: 0.3120 - accuracy: 0.8690 - val_loss: 0.3759 - val_accuracy: 0.8523\n",
      "Epoch 41/100\n",
      "5359/5359 [==============================] - 51s 10ms/step - loss: 0.3129 - accuracy: 0.8668 - val_loss: 0.3715 - val_accuracy: 0.8531\n",
      "Epoch 42/100\n",
      "5359/5359 [==============================] - 52s 10ms/step - loss: 0.3119 - accuracy: 0.8666 - val_loss: 0.3733 - val_accuracy: 0.8550\n",
      "Epoch 43/100\n",
      "5359/5359 [==============================] - 51s 9ms/step - loss: 0.3114 - accuracy: 0.8666 - val_loss: 0.3763 - val_accuracy: 0.8512\n",
      "Epoch 44/100\n",
      "5359/5359 [==============================] - 51s 10ms/step - loss: 0.3105 - accuracy: 0.8649 - val_loss: 0.3784 - val_accuracy: 0.8497\n",
      "Epoch 45/100\n",
      "5359/5359 [==============================] - 53s 10ms/step - loss: 0.3104 - accuracy: 0.8684 - val_loss: 0.3778 - val_accuracy: 0.8523\n",
      "Epoch 46/100\n",
      "5359/5359 [==============================] - 53s 10ms/step - loss: 0.3097 - accuracy: 0.8664 - val_loss: 0.3753 - val_accuracy: 0.8542\n",
      "Epoch 47/100\n",
      "5359/5359 [==============================] - 52s 10ms/step - loss: 0.3100 - accuracy: 0.8681 - val_loss: 0.3738 - val_accuracy: 0.8504\n",
      "Epoch 48/100\n",
      "5359/5359 [==============================] - 53s 10ms/step - loss: 0.3096 - accuracy: 0.8670 - val_loss: 0.3753 - val_accuracy: 0.8519\n",
      "Epoch 49/100\n",
      "5359/5359 [==============================] - 53s 10ms/step - loss: 0.3089 - accuracy: 0.8679 - val_loss: 0.3802 - val_accuracy: 0.8538\n",
      "Epoch 50/100\n",
      "5359/5359 [==============================] - 51s 10ms/step - loss: 0.3090 - accuracy: 0.8675 - val_loss: 0.3863 - val_accuracy: 0.8466\n",
      "Epoch 51/100\n",
      "5359/5359 [==============================] - 63s 12ms/step - loss: 0.3082 - accuracy: 0.8701 - val_loss: 0.3808 - val_accuracy: 0.8508\n",
      "Epoch 52/100\n",
      "5359/5359 [==============================] - 59s 11ms/step - loss: 0.3062 - accuracy: 0.8681 - val_loss: 0.3826 - val_accuracy: 0.8573\n",
      "Epoch 53/100\n",
      "5359/5359 [==============================] - 52s 10ms/step - loss: 0.3079 - accuracy: 0.8655 - val_loss: 0.3795 - val_accuracy: 0.8535\n",
      "Epoch 54/100\n",
      "5359/5359 [==============================] - 52s 10ms/step - loss: 0.3066 - accuracy: 0.8686 - val_loss: 0.3797 - val_accuracy: 0.8508\n",
      "Epoch 55/100\n",
      "5359/5359 [==============================] - 51s 9ms/step - loss: 0.3067 - accuracy: 0.8681 - val_loss: 0.3840 - val_accuracy: 0.8474\n",
      "Epoch 56/100\n",
      "5359/5359 [==============================] - 50s 9ms/step - loss: 0.3065 - accuracy: 0.8684 - val_loss: 0.3842 - val_accuracy: 0.8519\n",
      "Epoch 57/100\n",
      "5359/5359 [==============================] - 49s 9ms/step - loss: 0.3073 - accuracy: 0.8707 - val_loss: 0.3841 - val_accuracy: 0.8463\n",
      "Epoch 58/100\n",
      "5359/5359 [==============================] - 53s 10ms/step - loss: 0.3062 - accuracy: 0.8709 - val_loss: 0.3861 - val_accuracy: 0.8455\n",
      "Epoch 59/100\n",
      "5359/5359 [==============================] - 50s 9ms/step - loss: 0.3057 - accuracy: 0.8684 - val_loss: 0.3819 - val_accuracy: 0.8478\n",
      "Epoch 60/100\n",
      "5359/5359 [==============================] - 52s 10ms/step - loss: 0.3043 - accuracy: 0.8698 - val_loss: 0.3880 - val_accuracy: 0.8519\n",
      "Epoch 61/100\n",
      "5359/5359 [==============================] - 50s 9ms/step - loss: 0.3046 - accuracy: 0.8688 - val_loss: 0.3921 - val_accuracy: 0.8429\n",
      "Epoch 62/100\n",
      "5359/5359 [==============================] - 51s 9ms/step - loss: 0.3044 - accuracy: 0.8679 - val_loss: 0.3883 - val_accuracy: 0.8455\n",
      "Epoch 63/100\n",
      "5359/5359 [==============================] - 53s 10ms/step - loss: 0.3035 - accuracy: 0.8690 - val_loss: 0.3899 - val_accuracy: 0.8463\n",
      "Epoch 64/100\n",
      "5359/5359 [==============================] - 50s 9ms/step - loss: 0.3031 - accuracy: 0.8696 - val_loss: 0.3837 - val_accuracy: 0.8501\n",
      "Epoch 65/100\n",
      "5359/5359 [==============================] - 50s 9ms/step - loss: 0.3029 - accuracy: 0.8703 - val_loss: 0.3861 - val_accuracy: 0.8516\n",
      "Epoch 66/100\n",
      "5359/5359 [==============================] - 51s 10ms/step - loss: 0.3031 - accuracy: 0.8683 - val_loss: 0.3921 - val_accuracy: 0.8485\n",
      "Epoch 67/100\n",
      "5359/5359 [==============================] - 51s 10ms/step - loss: 0.3031 - accuracy: 0.8692 - val_loss: 0.3916 - val_accuracy: 0.8493\n",
      "Epoch 68/100\n",
      "5359/5359 [==============================] - 53s 10ms/step - loss: 0.3025 - accuracy: 0.8703 - val_loss: 0.3905 - val_accuracy: 0.8512\n",
      "Epoch 69/100\n",
      "5359/5359 [==============================] - 54s 10ms/step - loss: 0.3016 - accuracy: 0.8722 - val_loss: 0.3937 - val_accuracy: 0.8466\n",
      "Epoch 70/100\n",
      "5359/5359 [==============================] - 54s 10ms/step - loss: 0.3025 - accuracy: 0.8688 - val_loss: 0.3905 - val_accuracy: 0.8482\n",
      "Epoch 71/100\n",
      "5359/5359 [==============================] - 53s 10ms/step - loss: 0.3013 - accuracy: 0.8711 - val_loss: 0.3959 - val_accuracy: 0.8482\n",
      "Epoch 72/100\n",
      "5359/5359 [==============================] - 55s 10ms/step - loss: 0.3016 - accuracy: 0.8698 - val_loss: 0.3920 - val_accuracy: 0.8501\n",
      "Epoch 73/100\n",
      "5359/5359 [==============================] - 55s 10ms/step - loss: 0.3010 - accuracy: 0.8692 - val_loss: 0.3920 - val_accuracy: 0.8470\n",
      "Epoch 74/100\n",
      "5359/5359 [==============================] - 54s 10ms/step - loss: 0.3017 - accuracy: 0.8699 - val_loss: 0.3937 - val_accuracy: 0.8482\n",
      "Epoch 75/100\n",
      "5359/5359 [==============================] - 53s 10ms/step - loss: 0.3002 - accuracy: 0.8696 - val_loss: 0.3941 - val_accuracy: 0.8531\n",
      "Epoch 76/100\n",
      "5359/5359 [==============================] - 54s 10ms/step - loss: 0.3018 - accuracy: 0.8718 - val_loss: 0.3964 - val_accuracy: 0.8523\n",
      "Epoch 77/100\n",
      "5359/5359 [==============================] - 51s 10ms/step - loss: 0.2995 - accuracy: 0.8716 - val_loss: 0.3986 - val_accuracy: 0.8463\n",
      "Epoch 78/100\n",
      "5359/5359 [==============================] - 55s 10ms/step - loss: 0.2990 - accuracy: 0.8716 - val_loss: 0.4026 - val_accuracy: 0.8459\n",
      "Epoch 79/100\n",
      "5359/5359 [==============================] - 51s 9ms/step - loss: 0.3000 - accuracy: 0.8712 - val_loss: 0.3979 - val_accuracy: 0.8474\n",
      "Epoch 80/100\n",
      "5359/5359 [==============================] - 53s 10ms/step - loss: 0.2985 - accuracy: 0.8722 - val_loss: 0.4003 - val_accuracy: 0.8444\n",
      "Epoch 81/100\n",
      "5359/5359 [==============================] - 54s 10ms/step - loss: 0.2988 - accuracy: 0.8696 - val_loss: 0.4006 - val_accuracy: 0.8508\n",
      "Epoch 82/100\n",
      "5359/5359 [==============================] - 54s 10ms/step - loss: 0.2985 - accuracy: 0.8701 - val_loss: 0.3996 - val_accuracy: 0.8482\n",
      "Epoch 83/100\n",
      "5359/5359 [==============================] - 54s 10ms/step - loss: 0.2989 - accuracy: 0.8714 - val_loss: 0.3946 - val_accuracy: 0.8489\n",
      "Epoch 84/100\n",
      "5359/5359 [==============================] - 51s 9ms/step - loss: 0.2982 - accuracy: 0.8720 - val_loss: 0.3983 - val_accuracy: 0.8474\n",
      "Epoch 85/100\n",
      "5359/5359 [==============================] - 52s 10ms/step - loss: 0.2987 - accuracy: 0.8699 - val_loss: 0.4017 - val_accuracy: 0.8493\n",
      "Epoch 86/100\n",
      "5359/5359 [==============================] - 53s 10ms/step - loss: 0.2988 - accuracy: 0.8714 - val_loss: 0.4083 - val_accuracy: 0.8417\n",
      "Epoch 87/100\n",
      "5359/5359 [==============================] - 52s 10ms/step - loss: 0.2985 - accuracy: 0.8712 - val_loss: 0.4039 - val_accuracy: 0.8459\n",
      "Epoch 88/100\n",
      "5359/5359 [==============================] - 48s 9ms/step - loss: 0.2976 - accuracy: 0.8703 - val_loss: 0.3980 - val_accuracy: 0.8497\n",
      "Epoch 89/100\n",
      "5359/5359 [==============================] - 48s 9ms/step - loss: 0.2964 - accuracy: 0.8705 - val_loss: 0.3978 - val_accuracy: 0.8497\n",
      "Epoch 90/100\n",
      "5359/5359 [==============================] - 48s 9ms/step - loss: 0.2973 - accuracy: 0.8718 - val_loss: 0.4005 - val_accuracy: 0.8504\n",
      "Epoch 91/100\n",
      "5359/5359 [==============================] - 56s 10ms/step - loss: 0.2958 - accuracy: 0.8731 - val_loss: 0.4087 - val_accuracy: 0.8455\n",
      "Epoch 92/100\n",
      "5359/5359 [==============================] - 55s 10ms/step - loss: 0.2968 - accuracy: 0.8727 - val_loss: 0.4045 - val_accuracy: 0.8466\n",
      "Epoch 93/100\n",
      "5359/5359 [==============================] - 53s 10ms/step - loss: 0.2965 - accuracy: 0.8699 - val_loss: 0.4044 - val_accuracy: 0.8485\n",
      "Epoch 94/100\n",
      "5359/5359 [==============================] - 52s 10ms/step - loss: 0.2955 - accuracy: 0.8726 - val_loss: 0.3996 - val_accuracy: 0.8512\n",
      "Epoch 95/100\n",
      "5359/5359 [==============================] - 52s 10ms/step - loss: 0.2969 - accuracy: 0.8714 - val_loss: 0.4117 - val_accuracy: 0.8432\n",
      "Epoch 96/100\n",
      "5359/5359 [==============================] - 53s 10ms/step - loss: 0.2951 - accuracy: 0.8699 - val_loss: 0.4048 - val_accuracy: 0.8478\n",
      "Epoch 97/100\n",
      "5359/5359 [==============================] - 51s 10ms/step - loss: 0.2955 - accuracy: 0.8724 - val_loss: 0.4050 - val_accuracy: 0.8440\n",
      "Epoch 98/100\n",
      "5359/5359 [==============================] - 49s 9ms/step - loss: 0.2959 - accuracy: 0.8709 - val_loss: 0.4028 - val_accuracy: 0.8508\n",
      "Epoch 99/100\n",
      "5359/5359 [==============================] - 49s 9ms/step - loss: 0.2949 - accuracy: 0.8714 - val_loss: 0.4028 - val_accuracy: 0.8440\n",
      "Epoch 100/100\n",
      "5359/5359 [==============================] - 48s 9ms/step - loss: 0.2956 - accuracy: 0.8714 - val_loss: 0.4063 - val_accuracy: 0.8451\n"
     ]
    }
   ],
   "source": [
    "classifier = Sequential()\n",
    "\n",
    "classifier.add(Dense(units=10 , kernel_initializer=  'he_normal',activation='relu',input_dim= 11))\n",
    "classifier.add(Dense(units=20 , kernel_initializer=  'he_normal',activation='relu' ))\n",
    "classifier.add(Dense(units=15 , kernel_initializer=  'he_normal',activation='relu' ))\n",
    "\n",
    "classifier.add(Dense(units=1 , kernel_initializer=  'glorot_uniform',activation='sigmoid' ))\n",
    "\n",
    "\n",
    "classifier.compile(optimizer = 'adam' , loss= 'binary_crossentropy',metrics = ['accuracy'])\n",
    "    \n",
    "model_history = classifier.fit(X_train,Y_train,validation_split=0.33,batch_size=10,nb_epoch=100)"
   ]
  },
  {
   "cell_type": "code",
   "execution_count": 14,
   "metadata": {},
   "outputs": [
    {
     "name": "stdout",
     "output_type": "stream",
     "text": [
      "Model: \"sequential_1\"\n",
      "_________________________________________________________________\n",
      "Layer (type)                 Output Shape              Param #   \n",
      "=================================================================\n",
      "dense_1 (Dense)              (None, 10)                120       \n",
      "_________________________________________________________________\n",
      "dense_2 (Dense)              (None, 20)                220       \n",
      "_________________________________________________________________\n",
      "dense_3 (Dense)              (None, 15)                315       \n",
      "_________________________________________________________________\n",
      "dense_4 (Dense)              (None, 1)                 16        \n",
      "=================================================================\n",
      "Total params: 671\n",
      "Trainable params: 671\n",
      "Non-trainable params: 0\n",
      "_________________________________________________________________\n"
     ]
    }
   ],
   "source": [
    "classifier.summary()"
   ]
  },
  {
   "cell_type": "code",
   "execution_count": 15,
   "metadata": {},
   "outputs": [],
   "source": [
    "y_pred = classifier.predict(X_test)\n",
    "y_pred = (y_pred > 0.5)\n",
    "\n",
    "cm = confusion_matrix(Y_test, y_pred)\n"
   ]
  },
  {
   "cell_type": "code",
   "execution_count": 16,
   "metadata": {},
   "outputs": [
    {
     "data": {
      "text/plain": [
       "array([[1470,  125],\n",
       "       [ 178,  227]], dtype=int64)"
      ]
     },
     "execution_count": 16,
     "metadata": {},
     "output_type": "execute_result"
    }
   ],
   "source": [
    "cm\n"
   ]
  },
  {
   "cell_type": "code",
   "execution_count": 17,
   "metadata": {},
   "outputs": [],
   "source": [
    "score =  accuracy_score(y_pred,Y_test)\n"
   ]
  },
  {
   "cell_type": "code",
   "execution_count": 18,
   "metadata": {},
   "outputs": [
    {
     "data": {
      "text/plain": [
       "0.8485"
      ]
     },
     "execution_count": 18,
     "metadata": {},
     "output_type": "execute_result"
    }
   ],
   "source": [
    "score\n"
   ]
  },
  {
   "cell_type": "code",
   "execution_count": 19,
   "metadata": {},
   "outputs": [
    {
     "ename": "RuntimeError",
     "evalue": "Cannot clone object <keras.wrappers.scikit_learn.KerasClassifier object at 0x000000C5D6E7E7B8>, as the constructor either does not set or modifies parameter layers",
     "output_type": "error",
     "traceback": [
      "\u001b[1;31m---------------------------------------------------------------------------\u001b[0m",
      "\u001b[1;31mRuntimeError\u001b[0m                              Traceback (most recent call last)",
      "\u001b[1;32m<ipython-input-19-061d40753a48>\u001b[0m in \u001b[0;36m<module>\u001b[1;34m\u001b[0m\n\u001b[0;32m     27\u001b[0m \u001b[0mgrid\u001b[0m \u001b[1;33m=\u001b[0m \u001b[0mGridSearchCV\u001b[0m\u001b[1;33m(\u001b[0m\u001b[0mestimator\u001b[0m\u001b[1;33m=\u001b[0m\u001b[0mmodel\u001b[0m\u001b[1;33m,\u001b[0m \u001b[0mparam_grid\u001b[0m \u001b[1;33m=\u001b[0m \u001b[0mparam_grid\u001b[0m\u001b[1;33m,\u001b[0m\u001b[0mcv\u001b[0m\u001b[1;33m=\u001b[0m\u001b[1;36m5\u001b[0m\u001b[1;33m)\u001b[0m\u001b[1;33m\u001b[0m\u001b[1;33m\u001b[0m\u001b[0m\n\u001b[0;32m     28\u001b[0m \u001b[1;33m\u001b[0m\u001b[0m\n\u001b[1;32m---> 29\u001b[1;33m \u001b[0mgrid_result\u001b[0m \u001b[1;33m=\u001b[0m \u001b[0mgrid\u001b[0m\u001b[1;33m.\u001b[0m\u001b[0mfit\u001b[0m\u001b[1;33m(\u001b[0m\u001b[0mX_train\u001b[0m\u001b[1;33m,\u001b[0m\u001b[0mY_train\u001b[0m\u001b[1;33m)\u001b[0m\u001b[1;33m\u001b[0m\u001b[1;33m\u001b[0m\u001b[0m\n\u001b[0m\u001b[0;32m     30\u001b[0m \u001b[1;33m\u001b[0m\u001b[0m\n\u001b[0;32m     31\u001b[0m \u001b[0mprint\u001b[0m\u001b[1;33m(\u001b[0m\u001b[0mgrid_result\u001b[0m\u001b[1;33m.\u001b[0m\u001b[0mbest_score\u001b[0m\u001b[1;33m,\u001b[0m \u001b[0mgrid_result\u001b[0m\u001b[1;33m.\u001b[0m\u001b[0mbest_params_\u001b[0m\u001b[1;33m)\u001b[0m\u001b[1;33m\u001b[0m\u001b[1;33m\u001b[0m\u001b[0m\n",
      "\u001b[1;32m~\\Miniconda3\\lib\\site-packages\\sklearn\\model_selection\\_search.py\u001b[0m in \u001b[0;36mfit\u001b[1;34m(self, X, y, groups, **fit_params)\u001b[0m\n\u001b[0;32m    734\u001b[0m             \u001b[1;31m# of the params are estimators as well.\u001b[0m\u001b[1;33m\u001b[0m\u001b[1;33m\u001b[0m\u001b[1;33m\u001b[0m\u001b[0m\n\u001b[0;32m    735\u001b[0m             self.best_estimator_ = clone(clone(base_estimator).set_params(\n\u001b[1;32m--> 736\u001b[1;33m                 **self.best_params_))\n\u001b[0m\u001b[0;32m    737\u001b[0m             \u001b[0mrefit_start_time\u001b[0m \u001b[1;33m=\u001b[0m \u001b[0mtime\u001b[0m\u001b[1;33m.\u001b[0m\u001b[0mtime\u001b[0m\u001b[1;33m(\u001b[0m\u001b[1;33m)\u001b[0m\u001b[1;33m\u001b[0m\u001b[1;33m\u001b[0m\u001b[0m\n\u001b[0;32m    738\u001b[0m             \u001b[1;32mif\u001b[0m \u001b[0my\u001b[0m \u001b[1;32mis\u001b[0m \u001b[1;32mnot\u001b[0m \u001b[1;32mNone\u001b[0m\u001b[1;33m:\u001b[0m\u001b[1;33m\u001b[0m\u001b[1;33m\u001b[0m\u001b[0m\n",
      "\u001b[1;32m~\\Miniconda3\\lib\\site-packages\\sklearn\\base.py\u001b[0m in \u001b[0;36mclone\u001b[1;34m(estimator, safe)\u001b[0m\n\u001b[0;32m     80\u001b[0m             raise RuntimeError('Cannot clone object %s, as the constructor '\n\u001b[0;32m     81\u001b[0m                                \u001b[1;34m'either does not set or modifies parameter %s'\u001b[0m \u001b[1;33m%\u001b[0m\u001b[1;33m\u001b[0m\u001b[1;33m\u001b[0m\u001b[0m\n\u001b[1;32m---> 82\u001b[1;33m                                (estimator, name))\n\u001b[0m\u001b[0;32m     83\u001b[0m     \u001b[1;32mreturn\u001b[0m \u001b[0mnew_object\u001b[0m\u001b[1;33m\u001b[0m\u001b[1;33m\u001b[0m\u001b[0m\n\u001b[0;32m     84\u001b[0m \u001b[1;33m\u001b[0m\u001b[0m\n",
      "\u001b[1;31mRuntimeError\u001b[0m: Cannot clone object <keras.wrappers.scikit_learn.KerasClassifier object at 0x000000C5D6E7E7B8>, as the constructor either does not set or modifies parameter layers"
     ]
    }
   ],
   "source": [
    "def create_model(layers,activation):\n",
    "    model = Sequential()\n",
    "    for i, nodes in enumerate(layers):\n",
    "        if i==0:\n",
    "            model.add(Dense(nodes,input_dim=X_train.shape[1]))\n",
    "            model.add(Activation(activation))\n",
    "            model.add(Dropout(0,3))\n",
    "            \n",
    "        else:\n",
    "            model.add(Dense(nodes))\n",
    "            model.add(Activation(activation))\n",
    "            model.add(Dropout(0,3))\n",
    "            \n",
    "     \n",
    "    model.add(Dense(units = 1, kernel_initializer= 'glorot_uniform', activation = 'sigmoid'))\n",
    "    \n",
    "    model.compile(optimizer= 'adam', loss= 'binary_crossentropy', metrics= ['accuracy'])\n",
    "    return model\n",
    "\n",
    "model = KerasClassifier(build_fn=create_model,verbose=0)\n",
    " \n",
    "    \n",
    "layers = [[20],  [40,20],[45, 30, 15 ]]\n",
    "activations = ['sigmoid', 'relu']\n",
    "\n",
    "param_grid = dict(layers=layers, activation=activations, batch_size = [128,256], epochs=[30])\n",
    "grid = GridSearchCV(estimator=model, param_grid = param_grid,cv=5)\n",
    "\n",
    "grid_result = grid.fit(X_train,Y_train)\n",
    "\n",
    "print(grid_result.best_score, grid_result.best_params_)\n",
    "\n",
    "\n",
    "\n"
   ]
  },
  {
   "cell_type": "code",
   "execution_count": 4,
   "metadata": {},
   "outputs": [],
   "source": [
    "import tensorflow as tf\n"
   ]
  },
  {
   "cell_type": "code",
   "execution_count": null,
   "metadata": {},
   "outputs": [],
   "source": []
  },
  {
   "cell_type": "code",
   "execution_count": null,
   "metadata": {},
   "outputs": [],
   "source": []
  },
  {
   "cell_type": "code",
   "execution_count": null,
   "metadata": {},
   "outputs": [],
   "source": []
  },
  {
   "cell_type": "code",
   "execution_count": null,
   "metadata": {},
   "outputs": [],
   "source": []
  },
  {
   "cell_type": "code",
   "execution_count": null,
   "metadata": {},
   "outputs": [],
   "source": []
  },
  {
   "cell_type": "code",
   "execution_count": null,
   "metadata": {},
   "outputs": [],
   "source": []
  },
  {
   "cell_type": "code",
   "execution_count": null,
   "metadata": {},
   "outputs": [],
   "source": []
  },
  {
   "cell_type": "code",
   "execution_count": null,
   "metadata": {},
   "outputs": [],
   "source": []
  }
 ],
 "metadata": {
  "kernelspec": {
   "display_name": "Python 3",
   "language": "python",
   "name": "python3"
  },
  "language_info": {
   "codemirror_mode": {
    "name": "ipython",
    "version": 3
   },
   "file_extension": ".py",
   "mimetype": "text/x-python",
   "name": "python",
   "nbconvert_exporter": "python",
   "pygments_lexer": "ipython3",
   "version": "3.7.3"
  }
 },
 "nbformat": 4,
 "nbformat_minor": 4
}
