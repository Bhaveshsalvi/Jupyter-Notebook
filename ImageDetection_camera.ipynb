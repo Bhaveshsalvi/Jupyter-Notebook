{
 "cells": [
  {
   "cell_type": "code",
   "execution_count": 2,
   "metadata": {},
   "outputs": [],
   "source": [
    "import cv2\n",
    "import numpy as np"
   ]
  },
  {
   "cell_type": "code",
   "execution_count": 7,
   "metadata": {},
   "outputs": [],
   "source": [
    "#cv2.VideoCapture(0)\n",
    "#if not cap.isOpened():\n",
    "#    print(\"Cannot open camera\")"
   ]
  },
  {
   "cell_type": "code",
   "execution_count": 12,
   "metadata": {},
   "outputs": [],
   "source": [
    "face_classifier = cv2.CascadeClassifier('D:\\Data scientist\\Dataset\\Object_detection\\haarcascade_frontalface_default.xml')"
   ]
  },
  {
   "cell_type": "code",
   "execution_count": 23,
   "metadata": {},
   "outputs": [
    {
     "name": "stdout",
     "output_type": "stream",
     "text": [
      "Collecting Sample Complete\n"
     ]
    }
   ],
   "source": [
    "def face_extractor(img):\n",
    "  faces = face_classifier.detectMultiScale(img,1.3,5)\n",
    "\n",
    "  if faces is ():\n",
    "    return None\n",
    "\n",
    "  for(x,y,w,h) in faces:\n",
    "    x=x-10\n",
    "    y=y-10\n",
    "    cropped_face = img[y:y+h+50, x:x+w+50]\n",
    "  return cropped_face\n",
    "\n",
    "#initialize Webcam\n",
    "cap = cv2.VideoCapture(0)\n",
    "count = 0\n",
    "\n",
    "# collect 100 samples of your face fron webcam input\n",
    "cap = cv2.VideoCapture(0)\n",
    "if not cap.isOpened():\n",
    "    print(\"Cannot open camera\")\n",
    "    exit()\n",
    "while True:\n",
    "\n",
    "  ret,frame = cap.read()\n",
    "  if face_extractor(frame) is not None:\n",
    "    count+=1\n",
    "    face = cv2.resize(face_extractor(frame),(400,400))\n",
    "\n",
    "    file_name_path = 'D:\\Data scientist\\Dataset\\Object_detection\\Images\\image' + str(count) + '.jpg'\n",
    "    cv2.imwrite(file_name_path,face)\n",
    "\n",
    "    cv2.putText(face,str(count),(50,50),cv2.FONT_HERSHEY_COMPLEX,1,(0,255,0),2)\n",
    "    cv2.imshow('Face Cropper', face)\n",
    "  else:\n",
    "     print(\"Face  not found\")\n",
    "     pass\n",
    "  if cv2.waitKey(1) == 13 or count == 100:\n",
    "     break\n",
    "cap.release()\n",
    "cv2.destroyAllWindows()\n",
    "print('Collecting Sample Complete')\n",
    "\n"
   ]
  }
 ],
 "metadata": {
  "kernelspec": {
   "display_name": "Python 3",
   "language": "python",
   "name": "python3"
  },
  "language_info": {
   "codemirror_mode": {
    "name": "ipython",
    "version": 3
   },
   "file_extension": ".py",
   "mimetype": "text/x-python",
   "name": "python",
   "nbconvert_exporter": "python",
   "pygments_lexer": "ipython3",
   "version": "3.7.3"
  }
 },
 "nbformat": 4,
 "nbformat_minor": 4
}
